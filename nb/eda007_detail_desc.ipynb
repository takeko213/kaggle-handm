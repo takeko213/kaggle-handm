{
 "cells": [
  {
   "cell_type": "markdown",
   "metadata": {},
   "source": [
    "# eda007_detail_desc\n",
    "リピートの割合など"
   ]
  },
  {
   "cell_type": "code",
   "execution_count": 1,
   "metadata": {},
   "outputs": [],
   "source": [
    "import os\n",
    "import sys\n",
    "from dotenv import load_dotenv\n",
    "load_dotenv\n",
    "sys.path.append(os.getenv('UTILS_PATH'))\n",
    "import datetime\n",
    "from dateutil.relativedelta import relativedelta\n",
    "import pandas as pd\n",
    "import matplotlib.pyplot as plt; plt.style.use(\"ggplot\")\n",
    "import seaborn as sns\n",
    "from PIL import Image\n",
    "from pathlib import Path"
   ]
  },
  {
   "cell_type": "code",
   "execution_count": 2,
   "metadata": {},
   "outputs": [],
   "source": [
    "INPUT_DIR = os.getenv('INPUT_DIR')\n",
    "OUTPUT_DIR = os.getenv('OUTPUT_DIR')"
   ]
  },
  {
   "cell_type": "code",
   "execution_count": 3,
   "metadata": {},
   "outputs": [],
   "source": [
    "import builtins\n",
    "import types\n",
    "\n",
    "def imports():\n",
    "    for name, val in globals().items():\n",
    "        # module imports\n",
    "        if isinstance(val, types.ModuleType):\n",
    "            yield name, val\n",
    "\n",
    "            # functions / callables\n",
    "        if hasattr(val, '__call__'):\n",
    "            yield name, val\n",
    "\n",
    "\n",
    "def noglobal(f):\n",
    "    '''\n",
    "    ref: https://gist.github.com/raven38/4e4c3c7a179283c441f575d6e375510c\n",
    "    '''\n",
    "    return types.FunctionType(f.__code__,\n",
    "                              dict(imports()),\n",
    "                              f.__name__,\n",
    "                              f.__defaults__,\n",
    "                              f.__closure__\n",
    "                              )"
   ]
  },
  {
   "cell_type": "code",
   "execution_count": 4,
   "metadata": {},
   "outputs": [],
   "source": [
    "def show_images(article_ids, cols=1, rows=-1):\n",
    "    if isinstance(article_ids, int) or isinstance(article_ids, str):\n",
    "        article_ids = [article_ids]\n",
    "    article_count = len(article_ids)\n",
    "    if rows < 0: rows = (article_count // cols) + 1\n",
    "    plt.figure(figsize=(3 + 3.5 * cols, 3 + 5 * rows))\n",
    "    for i in range(article_count):\n",
    "        article_id = (\"0\" + str(article_ids[i]))[-10:]\n",
    "        plt.subplot(rows, cols, i + 1)\n",
    "        plt.axis('off')\n",
    "        plt.title(article_id)\n",
    "        try:\n",
    "            image = Image.open(INPUT_DIR + f\"images/{article_id[:3]}/{article_id}.jpg\")\n",
    "            plt.imshow(image)\n",
    "        except:\n",
    "            pass"
   ]
  },
  {
   "cell_type": "code",
   "execution_count": 10,
   "metadata": {},
   "outputs": [],
   "source": [
    "def show_popular_words(df, col, n=10):\n",
    "    from collections import Counter\n",
    "    import nltk\n",
    "    nltk.download('stopwords')\n",
    "    from nltk.corpus import stopwords\n",
    "    import re\n",
    "\n",
    "    nltk.download('stopwords')\n",
    "    df[col] = df[col].str.lower()\n",
    "    sw = stopwords.words('english')\n",
    "    words = []\n",
    "    for desc in df[col].values:\n",
    "        desc = re.sub(r'[^\\w\\s]','',desc)\n",
    "        desc_split = desc.split()\n",
    "        desc_split = [word for word in desc_split if word not in sw]\n",
    "        words.extend(desc_split)\n",
    "    display(Counter(words).most_common()[:n])"
   ]
  },
  {
   "cell_type": "code",
   "execution_count": 11,
   "metadata": {},
   "outputs": [],
   "source": [
    "articles = pd.read_csv(INPUT_DIR + 'articles.csv', dtype='object')\n",
    "articles['detail_desc'] = articles['detail_desc'].fillna('')"
   ]
  },
  {
   "cell_type": "code",
   "execution_count": 12,
   "metadata": {},
   "outputs": [
    {
     "name": "stderr",
     "output_type": "stream",
     "text": [
      "[nltk_data] Downloading package stopwords to\n",
      "[nltk_data]     /home/kaggler/nltk_data...\n",
      "[nltk_data]   Package stopwords is already up-to-date!\n",
      "[nltk_data] Downloading package stopwords to\n",
      "[nltk_data]     /home/kaggler/nltk_data...\n",
      "[nltk_data]   Package stopwords is already up-to-date!\n"
     ]
    },
    {
     "data": {
      "text/plain": [
       "[('back', 36807),\n",
       " ('front', 36244),\n",
       " ('soft', 35579),\n",
       " ('waist', 34284),\n",
       " ('cotton', 34229),\n",
       " ('top', 30695),\n",
       " ('sleeves', 28372),\n",
       " ('jersey', 27309),\n",
       " ('hem', 25051),\n",
       " ('pockets', 25044),\n",
       " ('cuffs', 23624),\n",
       " ('elasticated', 19441),\n",
       " ('long', 19219),\n",
       " ('fabric', 18931),\n",
       " ('short', 17566),\n",
       " ('zip', 16444),\n",
       " ('lined', 15734),\n",
       " ('side', 15427),\n",
       " ('weave', 14250),\n",
       " ('ribbing', 13133),\n",
       " ('wide', 12880),\n",
       " ('neckline', 12789),\n",
       " ('narrow', 12067),\n",
       " ('button', 11810),\n",
       " ('adjustable', 11674),\n",
       " ('collar', 11538),\n",
       " ('dress', 11122),\n",
       " ('shoulder', 10896),\n",
       " ('legs', 10507),\n",
       " ('buttons', 10461),\n",
       " ('concealed', 10270),\n",
       " ('around', 9672),\n",
       " ('fly', 9354),\n",
       " ('straps', 9281),\n",
       " ('drawstring', 9198),\n",
       " ('blend', 8777),\n",
       " ('seam', 8740),\n",
       " ('ribbed', 8668),\n",
       " ('elastication', 8515),\n",
       " ('shoulders', 8486),\n",
       " ('cm', 8415),\n",
       " ('vneck', 8338),\n",
       " ('hems', 8232),\n",
       " ('pocket', 7782),\n",
       " ('sides', 7463),\n",
       " ('sweatshirt', 7414),\n",
       " ('one', 7294),\n",
       " ('shorts', 7245),\n",
       " ('rounded', 7070),\n",
       " ('unlined', 7056),\n",
       " ('fit', 6818),\n",
       " ('stretch', 6756),\n",
       " ('skirt', 6751),\n",
       " ('longsleeved', 6645),\n",
       " ('organic', 6615),\n",
       " ('decorative', 6342),\n",
       " ('woven', 6341),\n",
       " ('viscose', 6322),\n",
       " ('patterned', 6293),\n",
       " ('imitation', 6210),\n",
       " ('trousers', 6155),\n",
       " ('slightly', 6145),\n",
       " ('neck', 5985),\n",
       " ('metal', 5936),\n",
       " ('leather', 5839),\n",
       " ('dropped', 5730),\n",
       " ('jacket', 5710),\n",
       " ('denim', 5685),\n",
       " ('jumper', 5658),\n",
       " ('fake', 5656),\n",
       " ('lace', 5525),\n",
       " ('hood', 5478),\n",
       " ('knit', 5472),\n",
       " ('high', 5346),\n",
       " ('washed', 5295),\n",
       " ('chest', 5128),\n",
       " ('airy', 5125),\n",
       " ('small', 5049),\n",
       " ('trim', 5023),\n",
       " ('longer', 5005),\n",
       " ('made', 4933),\n",
       " ('padded', 4929),\n",
       " ('soles', 4909),\n",
       " ('fitted', 4847),\n",
       " ('inside', 4819),\n",
       " ('tshirt', 4798),\n",
       " ('pressstuds', 4768),\n",
       " ('insoles', 4671),\n",
       " ('brushed', 4604),\n",
       " ('motif', 4591),\n",
       " ('shirt', 4529),\n",
       " ('flap', 4518),\n",
       " ('covered', 4446),\n",
       " ('opening', 4402),\n",
       " ('detachable', 4360),\n",
       " ('gently', 4336),\n",
       " ('seams', 4203),\n",
       " ('tapered', 4168),\n",
       " ('fastening', 4146),\n",
       " ('fineknit', 3987)]"
      ]
     },
     "metadata": {},
     "output_type": "display_data"
    }
   ],
   "source": [
    "show_popular_words(articles, 'detail_desc', n=100)"
   ]
  },
  {
   "cell_type": "code",
   "execution_count": null,
   "metadata": {},
   "outputs": [],
   "source": []
  }
 ],
 "metadata": {
  "interpreter": {
   "hash": "d4d1e4263499bec80672ea0156c357c1ee493ec2b1c70f0acce89fc37c4a6abe"
  },
  "kernelspec": {
   "display_name": "Python 3.8.12 ('base')",
   "language": "python",
   "name": "python3"
  },
  "language_info": {
   "codemirror_mode": {
    "name": "ipython",
    "version": 3
   },
   "file_extension": ".py",
   "mimetype": "text/x-python",
   "name": "python",
   "nbconvert_exporter": "python",
   "pygments_lexer": "ipython3",
   "version": "3.8.12"
  },
  "orig_nbformat": 4
 },
 "nbformat": 4,
 "nbformat_minor": 2
}
