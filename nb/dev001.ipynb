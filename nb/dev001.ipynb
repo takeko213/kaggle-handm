{
 "cells": [
  {
   "cell_type": "markdown",
   "metadata": {},
   "source": [
    "# dev001\n",
    "map@12の実装"
   ]
  },
  {
   "cell_type": "code",
   "execution_count": 1,
   "metadata": {},
   "outputs": [],
   "source": [
    "import os\n",
    "import sys\n",
    "from dotenv import load_dotenv\n",
    "load_dotenv\n",
    "sys.path.append(os.getenv('UTILS_PATH'))\n",
    "\n",
    "import pandas as pd\n",
    "import numpy as np"
   ]
  },
  {
   "cell_type": "code",
   "execution_count": 2,
   "metadata": {},
   "outputs": [],
   "source": [
    "INPUT_DIR = os.getenv('INPUT_DIR')\n",
    "OUTPUT_DIR = os.getenv('OUTPUT_DIR')"
   ]
  },
  {
   "cell_type": "code",
   "execution_count": 3,
   "metadata": {},
   "outputs": [],
   "source": [
    "transactions = pd.read_csv(INPUT_DIR + 'transactions_train.csv', dtype={'article_id':'str'}, parse_dates=['t_dat'])\n",
    "sample = pd.read_csv(INPUT_DIR + 'sample_submission.csv')"
   ]
  },
  {
   "cell_type": "code",
   "execution_count": 4,
   "metadata": {},
   "outputs": [],
   "source": [
    "val_start_date = '2020-09-16'\n",
    "train = transactions[transactions['t_dat']<val_start_date].copy()\n",
    "valid = transactions[transactions['t_dat']>=val_start_date].copy()"
   ]
  },
  {
   "cell_type": "markdown",
   "metadata": {},
   "source": [
    "# validの正解データ作成"
   ]
  },
  {
   "cell_type": "code",
   "execution_count": 5,
   "metadata": {},
   "outputs": [],
   "source": [
    "valid_unique = valid[['customer_id', 'article_id']].drop_duplicates()\n",
    "valid_agg = valid_unique.groupby('customer_id')['article_id'].apply(list).reset_index()\n",
    "valid_true = valid_agg['article_id'].tolist()"
   ]
  },
  {
   "cell_type": "markdown",
   "metadata": {},
   "source": [
    "# 予測値作成\n",
    "trainの最頻値で予測値を作る"
   ]
  },
  {
   "cell_type": "code",
   "execution_count": 6,
   "metadata": {},
   "outputs": [],
   "source": [
    "# customerごとの購入数量\n",
    "customer_agg = train.groupby(['customer_id', 'article_id'])['t_dat'].count().reset_index()\n",
    "customer_agg = customer_agg.rename(columns={'t_dat':'cnt'})\n",
    "customer_agg = customer_agg.sort_values(['customer_id', 'cnt'], ascending=False)\n",
    "customer_agg = customer_agg.groupby('customer_id').head(12)"
   ]
  },
  {
   "cell_type": "code",
   "execution_count": 7,
   "metadata": {},
   "outputs": [
    {
     "data": {
      "text/plain": [
       "800d408d1d6fa043346f5bc5b890e15403a7604406e83cf2ffd89fe564dc4c75    12\n",
       "7868619814187e50f63413fcf5e878caa5d84218d980117e9a8502e4514062ae    12\n",
       "786af723bd8a4a25a394c3587a9de7298ddaa1e0a296994c2a1406f424a749ce    12\n",
       "786aed6081b30249e6f6b720f2a33b4c72a81fea5df4d73ff4a949b89a759167    12\n",
       "786ad205e74668b7b820e433b51b77235c04bb756bf6046c6b59839f29fd870c    12\n",
       "786aa101fee83ea1ce2c1259e2963b934088da91d95dc17d1d7831947220452b    12\n",
       "786a866632896caf719fe9a28fc27c28e59b2aab1909e927e8360c8f13e1b0d0    12\n",
       "786a7635baf78ef4fa3f8a1c80db94302e91bcc2ee57113f037e6b92dee73231    12\n",
       "786a4a8208e688c83d4ad11cfa15950d49388882be3efee1ec5f09ee8a730fd9    12\n",
       "786a3966c222fa15a78c7dea50e68e4a9550fb6b7af76aa9845c72e4d2f0bf90    12\n",
       "Name: customer_id, dtype: int64"
      ]
     },
     "execution_count": 7,
     "metadata": {},
     "output_type": "execute_result"
    }
   ],
   "source": [
    "customer_agg['customer_id'].value_counts()[:10]"
   ]
  },
  {
   "cell_type": "code",
   "execution_count": 8,
   "metadata": {},
   "outputs": [
    {
     "data": {
      "text/html": [
       "<div>\n",
       "<style scoped>\n",
       "    .dataframe tbody tr th:only-of-type {\n",
       "        vertical-align: middle;\n",
       "    }\n",
       "\n",
       "    .dataframe tbody tr th {\n",
       "        vertical-align: top;\n",
       "    }\n",
       "\n",
       "    .dataframe thead th {\n",
       "        text-align: right;\n",
       "    }\n",
       "</style>\n",
       "<table border=\"1\" class=\"dataframe\">\n",
       "  <thead>\n",
       "    <tr style=\"text-align: right;\">\n",
       "      <th></th>\n",
       "      <th>customer_id</th>\n",
       "      <th>article_id</th>\n",
       "    </tr>\n",
       "  </thead>\n",
       "  <tbody>\n",
       "    <tr>\n",
       "      <th>0</th>\n",
       "      <td>00000dbacae5abe5e23885899a1fa44253a17956c6d1c3...</td>\n",
       "      <td>[0568601006, 0797065001, 0176209023, 056860104...</td>\n",
       "    </tr>\n",
       "    <tr>\n",
       "      <th>1</th>\n",
       "      <td>0000423b00ade91418cceaf3b26c6af3dd342b51fd051e...</td>\n",
       "      <td>[0811835004, 0351484002, 0689898002, 072352900...</td>\n",
       "    </tr>\n",
       "    <tr>\n",
       "      <th>2</th>\n",
       "      <td>000058a12d5b43e67d225668fa1f8d618c13dc232df0ca...</td>\n",
       "      <td>[0351484002, 0663713001, 0750424014, 087030400...</td>\n",
       "    </tr>\n",
       "    <tr>\n",
       "      <th>3</th>\n",
       "      <td>00005ca1c9ed5f5146b52ac8639a40ca9d57aeff4d1bd2...</td>\n",
       "      <td>[0732413001, 0742079001]</td>\n",
       "    </tr>\n",
       "    <tr>\n",
       "      <th>4</th>\n",
       "      <td>00006413d8573cd20ed7128e53b7b13819fe5cfc2d801f...</td>\n",
       "      <td>[0399061015, 0589440005, 0634249005, 067704900...</td>\n",
       "    </tr>\n",
       "  </tbody>\n",
       "</table>\n",
       "</div>"
      ],
      "text/plain": [
       "                                         customer_id  \\\n",
       "0  00000dbacae5abe5e23885899a1fa44253a17956c6d1c3...   \n",
       "1  0000423b00ade91418cceaf3b26c6af3dd342b51fd051e...   \n",
       "2  000058a12d5b43e67d225668fa1f8d618c13dc232df0ca...   \n",
       "3  00005ca1c9ed5f5146b52ac8639a40ca9d57aeff4d1bd2...   \n",
       "4  00006413d8573cd20ed7128e53b7b13819fe5cfc2d801f...   \n",
       "\n",
       "                                          article_id  \n",
       "0  [0568601006, 0797065001, 0176209023, 056860104...  \n",
       "1  [0811835004, 0351484002, 0689898002, 072352900...  \n",
       "2  [0351484002, 0663713001, 0750424014, 087030400...  \n",
       "3                           [0732413001, 0742079001]  \n",
       "4  [0399061015, 0589440005, 0634249005, 067704900...  "
      ]
     },
     "execution_count": 8,
     "metadata": {},
     "output_type": "execute_result"
    }
   ],
   "source": [
    "customer_mode = customer_agg.groupby('customer_id')['article_id'].apply(list).reset_index()\n",
    "customer_mode.head()"
   ]
  },
  {
   "cell_type": "code",
   "execution_count": 9,
   "metadata": {},
   "outputs": [
    {
     "data": {
      "text/html": [
       "<div>\n",
       "<style scoped>\n",
       "    .dataframe tbody tr th:only-of-type {\n",
       "        vertical-align: middle;\n",
       "    }\n",
       "\n",
       "    .dataframe tbody tr th {\n",
       "        vertical-align: top;\n",
       "    }\n",
       "\n",
       "    .dataframe thead th {\n",
       "        text-align: right;\n",
       "    }\n",
       "</style>\n",
       "<table border=\"1\" class=\"dataframe\">\n",
       "  <thead>\n",
       "    <tr style=\"text-align: right;\">\n",
       "      <th></th>\n",
       "      <th>article_id</th>\n",
       "      <th>cnt</th>\n",
       "    </tr>\n",
       "  </thead>\n",
       "  <tbody>\n",
       "    <tr>\n",
       "      <th>53792</th>\n",
       "      <td>0706016001</td>\n",
       "      <td>49958</td>\n",
       "    </tr>\n",
       "    <tr>\n",
       "      <th>53793</th>\n",
       "      <td>0706016002</td>\n",
       "      <td>34802</td>\n",
       "    </tr>\n",
       "    <tr>\n",
       "      <th>1707</th>\n",
       "      <td>0372860001</td>\n",
       "      <td>31482</td>\n",
       "    </tr>\n",
       "    <tr>\n",
       "      <th>24782</th>\n",
       "      <td>0610776002</td>\n",
       "      <td>30003</td>\n",
       "    </tr>\n",
       "    <tr>\n",
       "      <th>70054</th>\n",
       "      <td>0759871002</td>\n",
       "      <td>26309</td>\n",
       "    </tr>\n",
       "  </tbody>\n",
       "</table>\n",
       "</div>"
      ],
      "text/plain": [
       "       article_id    cnt\n",
       "53792  0706016001  49958\n",
       "53793  0706016002  34802\n",
       "1707   0372860001  31482\n",
       "24782  0610776002  30003\n",
       "70054  0759871002  26309"
      ]
     },
     "execution_count": 9,
     "metadata": {},
     "output_type": "execute_result"
    }
   ],
   "source": [
    "# 全体の購入数量\n",
    "total_agg = train.groupby('article_id')['t_dat'].count().reset_index()\n",
    "total_agg = total_agg.rename(columns={'t_dat':'cnt'})\n",
    "total_agg = total_agg.sort_values(['cnt'], ascending=False)\n",
    "total_agg = total_agg.head(12)\n",
    "total_agg.head()"
   ]
  },
  {
   "cell_type": "code",
   "execution_count": 10,
   "metadata": {},
   "outputs": [
    {
     "data": {
      "text/plain": [
       "['0706016001',\n",
       " '0706016002',\n",
       " '0372860001',\n",
       " '0610776002',\n",
       " '0759871002',\n",
       " '0464297007',\n",
       " '0372860002',\n",
       " '0610776001',\n",
       " '0399223001',\n",
       " '0720125001',\n",
       " '0706016003',\n",
       " '0156231001']"
      ]
     },
     "execution_count": 10,
     "metadata": {},
     "output_type": "execute_result"
    }
   ],
   "source": [
    "total_mode = list(total_agg['article_id'].values)\n",
    "total_mode"
   ]
  },
  {
   "cell_type": "code",
   "execution_count": 11,
   "metadata": {},
   "outputs": [
    {
     "data": {
      "text/plain": [
       "[['0564358030',\n",
       "  '0671607001',\n",
       "  '0704029002',\n",
       "  '0771602001',\n",
       "  '0436261001',\n",
       "  '0482660018',\n",
       "  '0504155012',\n",
       "  '0504155018',\n",
       "  '0537895003',\n",
       "  '0564358024',\n",
       "  '0568601007',\n",
       "  '0620081006'],\n",
       " ['0873217004',\n",
       "  '0880017001',\n",
       "  '0377277001',\n",
       "  '0621381012',\n",
       "  '0640021012',\n",
       "  '0733749001',\n",
       "  '0784053005',\n",
       "  '0823025001',\n",
       "  '0870962001',\n",
       "  '0875329001',\n",
       "  '0889036004',\n",
       "  '0891322006'],\n",
       " ['0872453001',\n",
       "  '0372860068',\n",
       "  '0399136061',\n",
       "  '0556255001',\n",
       "  '0576897001',\n",
       "  '0642016001',\n",
       "  '0659832014',\n",
       "  '0700926002',\n",
       "  '0706016001',\n",
       "  '0706016002',\n",
       "  '0732842014',\n",
       "  '0732842015'],\n",
       " ['0706016001',\n",
       "  '0706016002',\n",
       "  '0372860001',\n",
       "  '0610776002',\n",
       "  '0759871002',\n",
       "  '0464297007',\n",
       "  '0372860002',\n",
       "  '0610776001',\n",
       "  '0399223001',\n",
       "  '0720125001',\n",
       "  '0706016003',\n",
       "  '0156231001'],\n",
       " ['0806388001',\n",
       "  '0569996001',\n",
       "  '0829017008',\n",
       "  '0448509014',\n",
       "  '0456163060',\n",
       "  '0529953001',\n",
       "  '0589599001',\n",
       "  '0600886001',\n",
       "  '0662980003',\n",
       "  '0676387001',\n",
       "  '0685687003',\n",
       "  '0696797001']]"
      ]
     },
     "execution_count": 11,
     "metadata": {},
     "output_type": "execute_result"
    }
   ],
   "source": [
    "# 学習期間で購入実績のある顧客はその実績データの最頻値を当てる。ない場合は全体の最頻値を当てる\n",
    "valid_mode = valid_agg['customer_id'].to_frame().copy()\n",
    "valid_mode = valid_mode.merge(customer_mode, on='customer_id', how='left')\n",
    "\n",
    "# listの代入がfillnaやlocではうまく行かないのでforループでatで入れてく（改善の余地あり）\n",
    "for idx in valid_mode[valid_mode['article_id'].isnull()].index:\n",
    "    valid_mode.at[idx, 'article_id'] = total_mode\n",
    "\n",
    "# 購入実績の商品個数が12に満たないものは全体の最頻値も足して12に合わせる\n",
    "for idx in valid_mode[valid_mode['article_id'].apply(len) < 12].index:\n",
    "    new_vals = valid_mode.at[idx, 'article_id'] + total_mode\n",
    "    new_vals = sorted(set(new_vals), key=new_vals.index)\n",
    "    valid_mode.at[idx, 'article_id'] = new_vals[:12]\n",
    "\n",
    "valid_pred = valid_mode['article_id'].tolist()\n",
    "valid_pred[:5]"
   ]
  },
  {
   "cell_type": "markdown",
   "metadata": {},
   "source": [
    "# MAP@12の計算\n",
    "「kaggleで勝つデータ分析の技術」より"
   ]
  },
  {
   "cell_type": "code",
   "execution_count": 12,
   "metadata": {},
   "outputs": [
    {
     "data": {
      "text/plain": [
       "0.0"
      ]
     },
     "execution_count": 12,
     "metadata": {},
     "output_type": "execute_result"
    }
   ],
   "source": [
    "K = 12\n",
    "y_i_true = valid_true[0]\n",
    "y_i_pred = valid_pred[0]\n",
    "\n",
    "# 予測値の数と重複の確認\n",
    "assert(len(y_i_pred) <= K)\n",
    "assert(len(np.unique(y_i_pred)) == len(y_i_pred))\n",
    "\n",
    "sum_precision = 0.0\n",
    "num_hits = 0.0\n",
    "\n",
    "for i, p in enumerate(y_i_pred):\n",
    "    if p in y_i_true:\n",
    "        num_hits += 1\n",
    "        precision = num_hits / (i+1)\n",
    "        sum_precision += precision\n",
    "apk = sum_precision / min(len(y_i_true), K)\n",
    "apk"
   ]
  },
  {
   "cell_type": "code",
   "execution_count": 13,
   "metadata": {},
   "outputs": [],
   "source": [
    "def apk(y_true, y_pred, K=12):\n",
    "    assert(len(y_true) == len(y_pred))\n",
    "    apks = []\n",
    "    for idx in range(len(y_true)):\n",
    "        y_i_true = valid_true[idx]\n",
    "        y_i_pred = valid_pred[idx]\n",
    "\n",
    "        # 予測値の数と重複の確認\n",
    "        assert(len(y_i_pred) <= K)\n",
    "        assert(len(np.unique(y_i_pred)) == len(y_i_pred))\n",
    "\n",
    "        sum_precision = 0.0\n",
    "        num_hits = 0.0\n",
    "\n",
    "        for i, p in enumerate(y_i_pred):\n",
    "            if p in y_i_true:\n",
    "                num_hits += 1\n",
    "                precision = num_hits / (i+1)\n",
    "                sum_precision += precision\n",
    "        apk = sum_precision / min(len(y_i_true), K)\n",
    "        apks.append(apk)\n",
    "    return apks\n"
   ]
  },
  {
   "cell_type": "code",
   "execution_count": 14,
   "metadata": {},
   "outputs": [
    {
     "data": {
      "text/plain": [
       "[0.0, 0.0, 0.0, 0.0, 0.020833333333333332]"
      ]
     },
     "execution_count": 14,
     "metadata": {},
     "output_type": "execute_result"
    }
   ],
   "source": [
    "apk(valid_true, valid_pred)[:5]"
   ]
  },
  {
   "cell_type": "code",
   "execution_count": 15,
   "metadata": {},
   "outputs": [
    {
     "name": "stdout",
     "output_type": "stream",
     "text": [
      "MAP@12 : 0.00904\n"
     ]
    }
   ],
   "source": [
    "# MAP@12\n",
    "mapa12 = np.mean(apk(valid_true, valid_pred))\n",
    "print(f'MAP@12 : ' + '{:.5f}'.format(mapa12))"
   ]
  },
  {
   "cell_type": "markdown",
   "metadata": {},
   "source": [
    "# sub形式への整形"
   ]
  },
  {
   "cell_type": "code",
   "execution_count": 16,
   "metadata": {},
   "outputs": [
    {
     "data": {
      "text/html": [
       "<div>\n",
       "<style scoped>\n",
       "    .dataframe tbody tr th:only-of-type {\n",
       "        vertical-align: middle;\n",
       "    }\n",
       "\n",
       "    .dataframe tbody tr th {\n",
       "        vertical-align: top;\n",
       "    }\n",
       "\n",
       "    .dataframe thead th {\n",
       "        text-align: right;\n",
       "    }\n",
       "</style>\n",
       "<table border=\"1\" class=\"dataframe\">\n",
       "  <thead>\n",
       "    <tr style=\"text-align: right;\">\n",
       "      <th></th>\n",
       "      <th>customer_id</th>\n",
       "      <th>prediction</th>\n",
       "    </tr>\n",
       "  </thead>\n",
       "  <tbody>\n",
       "    <tr>\n",
       "      <th>0</th>\n",
       "      <td>00000dbacae5abe5e23885899a1fa44253a17956c6d1c3...</td>\n",
       "      <td>0706016001 0706016002 0372860001 0610776002 07...</td>\n",
       "    </tr>\n",
       "    <tr>\n",
       "      <th>1</th>\n",
       "      <td>0000423b00ade91418cceaf3b26c6af3dd342b51fd051e...</td>\n",
       "      <td>0706016001 0706016002 0372860001 0610776002 07...</td>\n",
       "    </tr>\n",
       "    <tr>\n",
       "      <th>2</th>\n",
       "      <td>000058a12d5b43e67d225668fa1f8d618c13dc232df0ca...</td>\n",
       "      <td>0706016001 0706016002 0372860001 0610776002 07...</td>\n",
       "    </tr>\n",
       "    <tr>\n",
       "      <th>3</th>\n",
       "      <td>00005ca1c9ed5f5146b52ac8639a40ca9d57aeff4d1bd2...</td>\n",
       "      <td>0706016001 0706016002 0372860001 0610776002 07...</td>\n",
       "    </tr>\n",
       "    <tr>\n",
       "      <th>4</th>\n",
       "      <td>00006413d8573cd20ed7128e53b7b13819fe5cfc2d801f...</td>\n",
       "      <td>0706016001 0706016002 0372860001 0610776002 07...</td>\n",
       "    </tr>\n",
       "  </tbody>\n",
       "</table>\n",
       "</div>"
      ],
      "text/plain": [
       "                                         customer_id  \\\n",
       "0  00000dbacae5abe5e23885899a1fa44253a17956c6d1c3...   \n",
       "1  0000423b00ade91418cceaf3b26c6af3dd342b51fd051e...   \n",
       "2  000058a12d5b43e67d225668fa1f8d618c13dc232df0ca...   \n",
       "3  00005ca1c9ed5f5146b52ac8639a40ca9d57aeff4d1bd2...   \n",
       "4  00006413d8573cd20ed7128e53b7b13819fe5cfc2d801f...   \n",
       "\n",
       "                                          prediction  \n",
       "0  0706016001 0706016002 0372860001 0610776002 07...  \n",
       "1  0706016001 0706016002 0372860001 0610776002 07...  \n",
       "2  0706016001 0706016002 0372860001 0610776002 07...  \n",
       "3  0706016001 0706016002 0372860001 0610776002 07...  \n",
       "4  0706016001 0706016002 0372860001 0610776002 07...  "
      ]
     },
     "execution_count": 16,
     "metadata": {},
     "output_type": "execute_result"
    }
   ],
   "source": [
    "sample.head()"
   ]
  },
  {
   "cell_type": "code",
   "execution_count": 17,
   "metadata": {},
   "outputs": [
    {
     "data": {
      "text/html": [
       "<div>\n",
       "<style scoped>\n",
       "    .dataframe tbody tr th:only-of-type {\n",
       "        vertical-align: middle;\n",
       "    }\n",
       "\n",
       "    .dataframe tbody tr th {\n",
       "        vertical-align: top;\n",
       "    }\n",
       "\n",
       "    .dataframe thead th {\n",
       "        text-align: right;\n",
       "    }\n",
       "</style>\n",
       "<table border=\"1\" class=\"dataframe\">\n",
       "  <thead>\n",
       "    <tr style=\"text-align: right;\">\n",
       "      <th></th>\n",
       "      <th>customer_id</th>\n",
       "      <th>article_id</th>\n",
       "    </tr>\n",
       "  </thead>\n",
       "  <tbody>\n",
       "    <tr>\n",
       "      <th>0</th>\n",
       "      <td>00000dbacae5abe5e23885899a1fa44253a17956c6d1c3...</td>\n",
       "      <td>[0568601006, 0797065001, 0176209023, 056860104...</td>\n",
       "    </tr>\n",
       "    <tr>\n",
       "      <th>1</th>\n",
       "      <td>0000423b00ade91418cceaf3b26c6af3dd342b51fd051e...</td>\n",
       "      <td>[0811835004, 0351484002, 0689898002, 072352900...</td>\n",
       "    </tr>\n",
       "    <tr>\n",
       "      <th>2</th>\n",
       "      <td>000058a12d5b43e67d225668fa1f8d618c13dc232df0ca...</td>\n",
       "      <td>[0351484002, 0663713001, 0750424014, 087030400...</td>\n",
       "    </tr>\n",
       "    <tr>\n",
       "      <th>3</th>\n",
       "      <td>00005ca1c9ed5f5146b52ac8639a40ca9d57aeff4d1bd2...</td>\n",
       "      <td>[0732413001, 0742079001, 0706016001, 070601600...</td>\n",
       "    </tr>\n",
       "    <tr>\n",
       "      <th>4</th>\n",
       "      <td>00006413d8573cd20ed7128e53b7b13819fe5cfc2d801f...</td>\n",
       "      <td>[0399061015, 0589440005, 0634249005, 067704900...</td>\n",
       "    </tr>\n",
       "  </tbody>\n",
       "</table>\n",
       "</div>"
      ],
      "text/plain": [
       "                                         customer_id  \\\n",
       "0  00000dbacae5abe5e23885899a1fa44253a17956c6d1c3...   \n",
       "1  0000423b00ade91418cceaf3b26c6af3dd342b51fd051e...   \n",
       "2  000058a12d5b43e67d225668fa1f8d618c13dc232df0ca...   \n",
       "3  00005ca1c9ed5f5146b52ac8639a40ca9d57aeff4d1bd2...   \n",
       "4  00006413d8573cd20ed7128e53b7b13819fe5cfc2d801f...   \n",
       "\n",
       "                                          article_id  \n",
       "0  [0568601006, 0797065001, 0176209023, 056860104...  \n",
       "1  [0811835004, 0351484002, 0689898002, 072352900...  \n",
       "2  [0351484002, 0663713001, 0750424014, 087030400...  \n",
       "3  [0732413001, 0742079001, 0706016001, 070601600...  \n",
       "4  [0399061015, 0589440005, 0634249005, 067704900...  "
      ]
     },
     "execution_count": 17,
     "metadata": {},
     "output_type": "execute_result"
    }
   ],
   "source": [
    "pred = sample['customer_id'].to_frame().copy()\n",
    "pred = pred.merge(customer_mode, on='customer_id', how='left')\n",
    "\n",
    "# listの代入がfillnaやlocではうまく行かないのでforループでatで入れてく（改善の余地あり）\n",
    "for idx in pred[pred['article_id'].isnull()].index:\n",
    "    pred.at[idx, 'article_id'] = total_mode\n",
    "\n",
    "# 購入実績の商品個数が12に満たないものは全体の最頻値も足して12に合わせる\n",
    "for idx in pred[pred['article_id'].apply(len) < 12].index:\n",
    "    new_vals = pred.at[idx, 'article_id'] + total_mode\n",
    "    new_vals = sorted(set(new_vals), key=new_vals.index)\n",
    "    pred.at[idx, 'article_id'] = new_vals[:12]\n",
    "\n",
    "pred.head()"
   ]
  },
  {
   "cell_type": "code",
   "execution_count": 18,
   "metadata": {},
   "outputs": [
    {
     "data": {
      "text/html": [
       "<div>\n",
       "<style scoped>\n",
       "    .dataframe tbody tr th:only-of-type {\n",
       "        vertical-align: middle;\n",
       "    }\n",
       "\n",
       "    .dataframe tbody tr th {\n",
       "        vertical-align: top;\n",
       "    }\n",
       "\n",
       "    .dataframe thead th {\n",
       "        text-align: right;\n",
       "    }\n",
       "</style>\n",
       "<table border=\"1\" class=\"dataframe\">\n",
       "  <thead>\n",
       "    <tr style=\"text-align: right;\">\n",
       "      <th></th>\n",
       "      <th>customer_id</th>\n",
       "      <th>prediction</th>\n",
       "    </tr>\n",
       "  </thead>\n",
       "  <tbody>\n",
       "    <tr>\n",
       "      <th>0</th>\n",
       "      <td>00000dbacae5abe5e23885899a1fa44253a17956c6d1c3...</td>\n",
       "      <td>0568601006 0797065001 0176209023 0568601043 06...</td>\n",
       "    </tr>\n",
       "    <tr>\n",
       "      <th>1</th>\n",
       "      <td>0000423b00ade91418cceaf3b26c6af3dd342b51fd051e...</td>\n",
       "      <td>0811835004 0351484002 0689898002 0723529001 05...</td>\n",
       "    </tr>\n",
       "    <tr>\n",
       "      <th>2</th>\n",
       "      <td>000058a12d5b43e67d225668fa1f8d618c13dc232df0ca...</td>\n",
       "      <td>0351484002 0663713001 0750424014 0870304002 05...</td>\n",
       "    </tr>\n",
       "    <tr>\n",
       "      <th>3</th>\n",
       "      <td>00005ca1c9ed5f5146b52ac8639a40ca9d57aeff4d1bd2...</td>\n",
       "      <td>0732413001 0742079001 0706016001 0706016002 03...</td>\n",
       "    </tr>\n",
       "    <tr>\n",
       "      <th>4</th>\n",
       "      <td>00006413d8573cd20ed7128e53b7b13819fe5cfc2d801f...</td>\n",
       "      <td>0399061015 0589440005 0634249005 0677049001 06...</td>\n",
       "    </tr>\n",
       "  </tbody>\n",
       "</table>\n",
       "</div>"
      ],
      "text/plain": [
       "                                         customer_id  \\\n",
       "0  00000dbacae5abe5e23885899a1fa44253a17956c6d1c3...   \n",
       "1  0000423b00ade91418cceaf3b26c6af3dd342b51fd051e...   \n",
       "2  000058a12d5b43e67d225668fa1f8d618c13dc232df0ca...   \n",
       "3  00005ca1c9ed5f5146b52ac8639a40ca9d57aeff4d1bd2...   \n",
       "4  00006413d8573cd20ed7128e53b7b13819fe5cfc2d801f...   \n",
       "\n",
       "                                          prediction  \n",
       "0  0568601006 0797065001 0176209023 0568601043 06...  \n",
       "1  0811835004 0351484002 0689898002 0723529001 05...  \n",
       "2  0351484002 0663713001 0750424014 0870304002 05...  \n",
       "3  0732413001 0742079001 0706016001 0706016002 03...  \n",
       "4  0399061015 0589440005 0634249005 0677049001 06...  "
      ]
     },
     "execution_count": 18,
     "metadata": {},
     "output_type": "execute_result"
    }
   ],
   "source": [
    "sub = sample.copy() \n",
    "sub['prediction'] = pred['article_id'].apply(lambda x: ' '.join(x))\n",
    "sub.head()"
   ]
  }
 ],
 "metadata": {
  "interpreter": {
   "hash": "d4d1e4263499bec80672ea0156c357c1ee493ec2b1c70f0acce89fc37c4a6abe"
  },
  "kernelspec": {
   "display_name": "Python 3.8.12 ('base')",
   "language": "python",
   "name": "python3"
  },
  "language_info": {
   "codemirror_mode": {
    "name": "ipython",
    "version": 3
   },
   "file_extension": ".py",
   "mimetype": "text/x-python",
   "name": "python",
   "nbconvert_exporter": "python",
   "pygments_lexer": "ipython3",
   "version": "3.8.12"
  },
  "orig_nbformat": 4
 },
 "nbformat": 4,
 "nbformat_minor": 2
}
