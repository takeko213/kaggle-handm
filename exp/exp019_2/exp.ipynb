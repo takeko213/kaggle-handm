{
 "cells": [
  {
   "cell_type": "markdown",
   "metadata": {},
   "source": [
    "# exp019_2"
   ]
  },
  {
   "cell_type": "code",
   "execution_count": 1,
   "metadata": {},
   "outputs": [],
   "source": [
    "import os\n",
    "import sys\n",
    "import itertools\n",
    "import datetime\n",
    "from dateutil.relativedelta import relativedelta\n",
    "from dotenv import load_dotenv\n",
    "load_dotenv()\n",
    "sys.path.append(os.getenv('UTILS_PATH'))\n",
    "\n",
    "import pandas as pd\n",
    "import numpy as np\n",
    "from sklearn.preprocessing import LabelEncoder\n",
    "import lightgbm as lgb\n",
    "import matplotlib.pyplot as plt\n",
    "import seaborn as sns\n",
    "\n",
    "import line_notify"
   ]
  },
  {
   "cell_type": "code",
   "execution_count": 2,
   "metadata": {},
   "outputs": [],
   "source": [
    "import builtins\n",
    "import types\n",
    "\n",
    "def imports():\n",
    "    for name, val in globals().items():\n",
    "        # module imports\n",
    "        if isinstance(val, types.ModuleType):\n",
    "            yield name, val\n",
    "\n",
    "            # functions / callables\n",
    "        if hasattr(val, '__call__'):\n",
    "            yield name, val\n",
    "\n",
    "\n",
    "def noglobal(f):\n",
    "    '''\n",
    "    ref: https://gist.github.com/raven38/4e4c3c7a179283c441f575d6e375510c\n",
    "    '''\n",
    "    return types.FunctionType(f.__code__,\n",
    "                              dict(imports()),\n",
    "                              f.__name__,\n",
    "                              f.__defaults__,\n",
    "                              f.__closure__\n",
    "                              )"
   ]
  },
  {
   "cell_type": "code",
   "execution_count": 3,
   "metadata": {},
   "outputs": [],
   "source": [
    "SEED = 42"
   ]
  },
  {
   "cell_type": "markdown",
   "metadata": {},
   "source": [
    "ディレクトリ設定"
   ]
  },
  {
   "cell_type": "code",
   "execution_count": 4,
   "metadata": {},
   "outputs": [],
   "source": [
    "INPUT_DIR = os.getenv('INPUT_DIR')\n",
    "OUTPUT_DIR = os.getenv('OUTPUT_DIR')\n",
    "#exp_name = os.path.dirname(__file__).split('/')[-1]\n",
    "exp_name = 'exp019_2'\n",
    "os.makedirs(OUTPUT_DIR + exp_name, exist_ok=True)"
   ]
  },
  {
   "cell_type": "markdown",
   "metadata": {},
   "source": [
    "データ読み込み"
   ]
  },
  {
   "cell_type": "code",
   "execution_count": 5,
   "metadata": {},
   "outputs": [],
   "source": [
    "articles = pd.read_csv(INPUT_DIR + 'articles.csv', dtype='object')\n",
    "customers = pd.read_csv(INPUT_DIR + 'customers.csv')\n",
    "transactions = pd.read_csv(INPUT_DIR + 'transactions_train.csv', dtype={'article_id':'str'}, parse_dates=['t_dat'])\n",
    "sample = pd.read_csv(INPUT_DIR + 'sample_submission.csv')"
   ]
  },
  {
   "cell_type": "markdown",
   "metadata": {},
   "source": [
    "# 前処理"
   ]
  },
  {
   "cell_type": "code",
   "execution_count": 6,
   "metadata": {},
   "outputs": [],
   "source": [
    "# 名寄せ\n",
    "customers['fashion_news_frequency'] = customers['fashion_news_frequency'].str.replace('None','NONE')\n",
    "# transactionに紐づけ\n",
    "transactions = transactions.merge(customers, on='customer_id', how='left')\n",
    "transactions = transactions.merge(articles, on='article_id', how='left')"
   ]
  },
  {
   "cell_type": "markdown",
   "metadata": {},
   "source": [
    "# データセット作成（レコメンド→対象データセット作成→特徴量エンジニアリング）"
   ]
  },
  {
   "cell_type": "code",
   "execution_count": 7,
   "metadata": {},
   "outputs": [],
   "source": [
    "@noglobal\n",
    "def get_customer_frequent(history, n=12, timedelta=None):\n",
    "    \"\"\"顧客ごと商品の購入数をカウントし上位の商品を抽出\n",
    "\n",
    "    Args:\n",
    "        history (dataframe): 集計対象の実績データ\n",
    "        n (int): レコメンド対象とする数\n",
    "        timedelta (dateutil.relativedelta): 指定された場合、実績データの終端からtimedelta分のデータを取得する\n",
    "\n",
    "    Returns:\n",
    "        dataframe: 抽出結果\n",
    "    \"\"\"\n",
    "    if timedelta is not None:\n",
    "        st_date = history['t_dat'].max() - timedelta\n",
    "        history = history[history['t_dat']>=st_date].copy()\n",
    "        \n",
    "    customer_agg = history.groupby(['customer_id', 'article_id'])['t_dat'].count().reset_index()\n",
    "    customer_agg = customer_agg.rename(columns={'t_dat':'cnt'})\n",
    "    customer_agg = customer_agg.sort_values(['customer_id', 'cnt'], ascending=False)\n",
    "    result = customer_agg.groupby('customer_id').head(n)\n",
    "    return result[['customer_id', 'article_id']]\n",
    "\n",
    "@noglobal\n",
    "def get_popular_article(history, n=12, timedelta=None):\n",
    "    \"\"\"全体の購入数をカウントし上位の商品を抽出\n",
    "\n",
    "    Args:\n",
    "        history (dataframe): 集計対象の実績データ\n",
    "        n (int): レコメンド対象とする数\n",
    "        timedelta (dateutil.relativedelta): 指定された場合、実績データの終端からtimedelta分のデータを取得する\n",
    "\n",
    "    Returns:\n",
    "        list: 抽出結果\n",
    "    \"\"\"\n",
    "    # 全体の購入数量\n",
    "    if timedelta is not None:\n",
    "        st_date = history['t_dat'].max() - timedelta\n",
    "        history = history[history['t_dat']>=st_date].copy()\n",
    "\n",
    "    total_agg = history.groupby('article_id')['t_dat'].count().reset_index()\n",
    "    total_agg = total_agg.rename(columns={'t_dat':'cnt'})\n",
    "    total_agg = total_agg.sort_values(['cnt'], ascending=False)\n",
    "    total_agg = total_agg.head(n)\n",
    "    result = list(total_agg['article_id'].values)\n",
    "    return result\n",
    "\n",
    "@noglobal\n",
    "def get_reccomend(target_customer_id, history):\n",
    "    \"\"\"対象のcustomer_idに対するレコメンド結果を返す\n",
    "\n",
    "    Args:\n",
    "        target_customer_id (list): 対象のcustomer_id\n",
    "        history (dataframe): レコメンドに用いる実績データ\n",
    "\n",
    "    Returns:\n",
    "        dataframe: レコメンド結果\n",
    "    \"\"\"\n",
    "    n = 12\n",
    "    result = pd.DataFrame()\n",
    "    \n",
    "    for td in [relativedelta(weeks=1), relativedelta(months=1)]:\n",
    "\n",
    "        customer_freq = get_customer_frequent(history, n, td)\n",
    "        popular_article = get_popular_article(history, n, td)\n",
    "        # customerとpopular articleの全組み合わせでdataframe作成\n",
    "        popular_article = pd.DataFrame(itertools.product(target_customer_id, popular_article), columns=['customer_id', 'article_id'])\n",
    "        tmp = pd.concat([customer_freq, popular_article])\n",
    "        result = result.append(tmp)\n",
    "    result = result.drop_duplicates()\n",
    "    result = result[result['customer_id'].isin(target_customer_id)].copy()\n",
    "\n",
    "    return result"
   ]
  },
  {
   "cell_type": "code",
   "execution_count": 8,
   "metadata": {},
   "outputs": [],
   "source": [
    "@noglobal\n",
    "def add_labels(recom_result, history):\n",
    "    \"\"\"レコメンドしたデータが学習期間で購入されたかどうかのフラグを付与する\n",
    "\n",
    "    Args:\n",
    "        recom_result (_type_): レコメンド結果\n",
    "        train_tran (_type_): 学習期間のトランザクションデータ\n",
    "\n",
    "    Returns:\n",
    "        _type_: 学習期間での購入フラグを付与したレコメンド結果\n",
    "    \"\"\"\n",
    "    history = history[['customer_id', 'article_id']].drop_duplicates()\n",
    "    history['buy'] = 1\n",
    "    recom_result = recom_result.merge(history, on=['customer_id', 'article_id'], how='left')\n",
    "    recom_result['buy'] = recom_result['buy'].fillna(0)\n",
    "    return recom_result\n"
   ]
  },
  {
   "cell_type": "code",
   "execution_count": 9,
   "metadata": {},
   "outputs": [],
   "source": [
    "@noglobal\n",
    "def make_article_features(articles):\n",
    "    le_cols = ['product_type_name', 'product_group_name', 'graphical_appearance_name',\n",
    "               'colour_group_name', 'perceived_colour_value_name', 'department_name',\n",
    "               'index_name', 'index_group_name', 'section_name', 'garment_group_name']\n",
    "    for c in le_cols:\n",
    "        le = LabelEncoder()\n",
    "        articles[c] = le.fit_transform(articles[c].fillna(''))\n",
    "    return articles[['article_id']+le_cols]\n",
    "\n",
    "@noglobal\n",
    "def make_article_tran_features(history):\n",
    "    df = history.groupby('article_id').agg({'t_dat':['count', 'max', 'min'],\n",
    "                                            'price':['max', 'min', 'mean'], \n",
    "                                            'age':['max', 'min', 'mean', 'std']}).reset_index()\n",
    "    df.columns = ['article_id','article_total_cnt', 'article_total_latest_buy', 'article_total_1st_buy', 'article_price_max', 'article_price_min', 'article_price_mean', 'article_age_max', 'article_age_min', 'article_age_mean', 'article_age_std']\n",
    "    df['article_total_1st_buy'] = (history['t_dat'].max() - df['article_total_1st_buy']).dt.days\n",
    "    df['article_total_latest_buy'] = (history['t_dat'].max() - df['article_total_latest_buy']).dt.days\n",
    "    return df\n",
    "\n",
    "\n",
    "@noglobal\n",
    "def make_customer_features(customers):\n",
    "    le_cols = ['club_member_status', 'fashion_news_frequency', 'postal_code']\n",
    "    for c in le_cols:\n",
    "        le = LabelEncoder()\n",
    "        customers[c] = le.fit_transform(customers[c].fillna(''))\n",
    "    return customers\n",
    "\n",
    "@noglobal\n",
    "def make_customer_tran_features(history):\n",
    "    df = history.groupby('customer_id').agg({'t_dat':['count', 'max', 'min'],\n",
    "                                            'price':['max', 'min', 'mean']}).reset_index()\n",
    "    df.columns = ['customer_id','customer_total_cnt', 'customer_total_latest_buy', 'customer_total_1st_buy', 'customer_price_max', 'customer_price_min', 'customer_price_mean']\n",
    "    df['customer_total_1st_buy'] = (history['t_dat'].max() - df['customer_total_1st_buy']).dt.days\n",
    "    df['customer_total_latest_buy'] = (history['t_dat'].max() - df['customer_total_latest_buy']).dt.days\n",
    "    return df\n",
    "\n",
    "@noglobal\n",
    "def make_customer_article_features(target, history):\n",
    "    df = target.merge(history, on=['customer_id', 'article_id'], how='inner')\n",
    "    df = df.groupby(['customer_id', 'article_id']).agg({'t_dat':['count', 'min', 'max']}).reset_index()\n",
    "    df.columns = ['customer_id', 'article_id', 'count', '1st_buy_date_diff', 'latest_buy_date_diff']\n",
    "    df['1st_buy_date_diff'] = (history['t_dat'].max() - df['1st_buy_date_diff']).dt.days\n",
    "    df['latest_buy_date_diff'] = (history['t_dat'].max() - df['latest_buy_date_diff']).dt.days\n",
    "    return df\n",
    "\n",
    "@noglobal\n",
    "def add_features(df, history, articles, customers):\n",
    "    article_features = make_article_features(articles)\n",
    "    article_tran_features = make_article_tran_features(history)\n",
    "    customer_features = make_customer_features(customers)\n",
    "    customer_tran_features = make_customer_tran_features(history)\n",
    "    customer_article_features = make_customer_article_features(df[['customer_id', 'article_id']], history)\n",
    "\n",
    "    df = df.merge(article_features, on=['article_id'], how='left')\n",
    "    df = df.merge(article_tran_features, on=['article_id'], how='left')\n",
    "    df = df.merge(customer_features, on=['customer_id'], how='left')\n",
    "    df = df.merge(customer_tran_features, on=['customer_id'], how='left')\n",
    "    df = df.merge(customer_article_features, on=['article_id', 'customer_id'], how='left')\n",
    "    return df\n",
    "    "
   ]
  },
  {
   "cell_type": "code",
   "execution_count": 10,
   "metadata": {},
   "outputs": [],
   "source": [
    "# テストデータの作成\n",
    "target_id = sample['customer_id'].tolist()\n",
    "recom = get_reccomend(target_id, transactions)\n",
    "ml_test = add_features(recom, transactions, articles, customers)"
   ]
  },
  {
   "cell_type": "markdown",
   "metadata": {},
   "source": [
    "# レコメンド商品を購入するかどうかの2値分類モデル"
   ]
  },
  {
   "cell_type": "code",
   "execution_count": 11,
   "metadata": {},
   "outputs": [],
   "source": [
    "def apk(y_true, y_pred, K=12):\n",
    "    assert(len(y_true) == len(y_pred))\n",
    "    apks = []\n",
    "    for idx in range(len(y_true)):\n",
    "        y_i_true = y_true[idx]\n",
    "        y_i_pred = y_pred[idx]\n",
    "\n",
    "        # 予測値の数と重複の確認\n",
    "        assert(len(y_i_pred) <= K)\n",
    "        assert(len(np.unique(y_i_pred)) == len(y_i_pred))\n",
    "\n",
    "        sum_precision = 0.0\n",
    "        num_hits = 0.0\n",
    "\n",
    "        for i, p in enumerate(y_i_pred):\n",
    "            if p in y_i_true:\n",
    "                num_hits += 1\n",
    "                precision = num_hits / (i+1)\n",
    "                sum_precision += precision\n",
    "        apk = sum_precision / min(len(y_i_true), K)\n",
    "        apks.append(apk)\n",
    "    return apks"
   ]
  },
  {
   "cell_type": "code",
   "execution_count": 12,
   "metadata": {},
   "outputs": [],
   "source": [
    "target = 'buy'\n",
    "not_use_cols = ['customer_id', 'article_id', target]\n",
    "features = [c for c in ml_test.columns if c not in not_use_cols]"
   ]
  },
  {
   "cell_type": "code",
   "execution_count": 13,
   "metadata": {},
   "outputs": [],
   "source": [
    "params = {\n",
    "    \"objective\": \"binary\",\n",
    "    \"boosting\" : \"gbdt\",\n",
    "    \"learning_rate\": 0.1,\n",
    "    \"metric\": \"binary_logloss\",\n",
    "    \"seed\": SEED\n",
    "}"
   ]
  },
  {
   "cell_type": "code",
   "execution_count": 14,
   "metadata": {},
   "outputs": [
    {
     "name": "stderr",
     "output_type": "stream",
     "text": [
      "/home/kaggler/.local/lib/python3.8/site-packages/lightgbm/engine.py:181: UserWarning: 'early_stopping_rounds' argument is deprecated and will be removed in a future release of LightGBM. Pass 'early_stopping()' callback via 'callbacks' argument instead.\n",
      "  _log_warning(\"'early_stopping_rounds' argument is deprecated and will be removed in a future release of LightGBM. \"\n",
      "/home/kaggler/.local/lib/python3.8/site-packages/lightgbm/engine.py:239: UserWarning: 'verbose_eval' argument is deprecated and will be removed in a future release of LightGBM. Pass 'log_evaluation()' callback via 'callbacks' argument instead.\n",
      "  _log_warning(\"'verbose_eval' argument is deprecated and will be removed in a future release of LightGBM. \"\n"
     ]
    },
    {
     "name": "stdout",
     "output_type": "stream",
     "text": [
      "[LightGBM] [Info] Number of positive: 9605, number of negative: 1238040\n",
      "[LightGBM] [Warning] Auto-choosing col-wise multi-threading, the overhead of testing was 0.232811 seconds.\n",
      "You can set `force_col_wise=true` to remove the overhead.\n",
      "[LightGBM] [Info] Total Bins 4488\n",
      "[LightGBM] [Info] Number of data points in the train set: 1247645, number of used features: 35\n",
      "[LightGBM] [Info] [binary:BoostFromScore]: pavg=0.007699 -> initscore=-4.859001\n",
      "[LightGBM] [Info] Start training from score -4.859001\n",
      "Training until validation scores don't improve for 100 rounds\n",
      "Early stopping, best iteration is:\n",
      "[31]\ttraining's binary_logloss: 0.0375726\tvalid_1's binary_logloss: 0.0396807\n",
      "2020-09-16 - 2020-09-22 : 0.02727\n",
      "[LightGBM] [Info] Number of positive: 11651, number of negative: 1606084\n",
      "[LightGBM] [Warning] Auto-choosing row-wise multi-threading, the overhead of testing was 0.069321 seconds.\n",
      "You can set `force_row_wise=true` to remove the overhead.\n",
      "And if memory is not enough, you can set `force_col_wise=true`.\n",
      "[LightGBM] [Info] Total Bins 4479\n",
      "[LightGBM] [Info] Number of data points in the train set: 1617735, number of used features: 35\n",
      "[LightGBM] [Info] [binary:BoostFromScore]: pavg=0.007202 -> initscore=-4.926162\n",
      "[LightGBM] [Info] Start training from score -4.926162\n",
      "Training until validation scores don't improve for 100 rounds\n",
      "Early stopping, best iteration is:\n",
      "[53]\ttraining's binary_logloss: 0.0358927\tvalid_1's binary_logloss: 0.0412812\n",
      "2020-09-09 - 2020-09-15 : 0.02458\n",
      "[LightGBM] [Info] Number of positive: 10498, number of negative: 1782587\n",
      "[LightGBM] [Warning] Auto-choosing row-wise multi-threading, the overhead of testing was 0.074670 seconds.\n",
      "You can set `force_row_wise=true` to remove the overhead.\n",
      "And if memory is not enough, you can set `force_col_wise=true`.\n",
      "[LightGBM] [Info] Total Bins 4496\n",
      "[LightGBM] [Info] Number of data points in the train set: 1793085, number of used features: 35\n",
      "[LightGBM] [Info] [binary:BoostFromScore]: pavg=0.005855 -> initscore=-5.134636\n",
      "[LightGBM] [Info] Start training from score -5.134636\n",
      "Training until validation scores don't improve for 100 rounds\n",
      "Early stopping, best iteration is:\n",
      "[29]\ttraining's binary_logloss: 0.0308428\tvalid_1's binary_logloss: 0.0382539\n",
      "2020-09-02 - 2020-09-08 : 0.02648\n",
      "MAP@12 : 0.02611\n"
     ]
    }
   ],
   "source": [
    "# 1週ずつローリングして学習データを生成し検証\n",
    "n_iter = 3\n",
    "train_start = datetime.datetime(2020,9,9)\n",
    "valid_start = datetime.datetime(2020,9,16)\n",
    "valid_end = datetime.datetime(2020,9,22)\n",
    "test_pred = np.zeros(len(ml_test))\n",
    "fi = pd.DataFrame()\n",
    "scores = []\n",
    "for i in range(n_iter):\n",
    "    # 学習データの作成\n",
    "    history_tran = transactions[transactions['t_dat'] < train_start].copy()\n",
    "    target_tran = transactions[(transactions['t_dat'] >= train_start) & (transactions['t_dat'] < valid_start)].copy()\n",
    "    target_id = target_tran['customer_id'].unique().tolist()\n",
    "    recom = get_reccomend(target_id, history_tran)\n",
    "    ml_train = add_labels(recom, target_tran)\n",
    "    ml_train = add_features(ml_train, history_tran, articles, customers)\n",
    "\n",
    "    # 評価データの作成\n",
    "    history_tran = transactions[transactions['t_dat'] < valid_start].copy()\n",
    "    target_tran = transactions[(transactions['t_dat'] >= valid_start) & (transactions['t_dat'] <= valid_end)].copy()\n",
    "    target_id = target_tran['customer_id'].unique().tolist()\n",
    "    recom = get_reccomend(target_id, history_tran)\n",
    "    ml_valid = add_labels(recom, target_tran)\n",
    "    ml_valid = add_features(ml_valid, history_tran, articles, customers)\n",
    "    \n",
    "    # 学習\n",
    "    tr_x, tr_y = ml_train[features], ml_train[target]\n",
    "    vl_x, vl_y = ml_valid[features], ml_valid[target]\n",
    "    tr_data = lgb.Dataset(tr_x, label=tr_y)\n",
    "    vl_data = lgb.Dataset(vl_x, label=vl_y)\n",
    "    model = lgb.train(params, tr_data, valid_sets=[tr_data, vl_data],\n",
    "                    num_boost_round=20000, early_stopping_rounds=100,verbose_eval=1000)\n",
    "\n",
    "    # 特徴量重要度\n",
    "    fi_tmp = pd.DataFrame()\n",
    "    fi_tmp['iter'] = n_iter\n",
    "    fi_tmp['feature'] = model.feature_name()\n",
    "    fi_tmp['importance'] = model.feature_importance(importance_type='gain')\n",
    "    fi = fi.append(fi_tmp)\n",
    "\n",
    "    # cv\n",
    "    vl_pred = model.predict(vl_x, num_iteration=model.best_iteration)\n",
    "    # 正解データ作成\n",
    "    valid = transactions[(transactions['t_dat'] >= valid_start) & (transactions['t_dat'] <= valid_end)].copy()\n",
    "    valid = valid[['customer_id', 'article_id']].drop_duplicates()\n",
    "    valid = valid.groupby('customer_id')['article_id'].apply(list).reset_index()\n",
    "    valid = valid.sort_values('customer_id').reset_index(drop=True)\n",
    "    # 2値分類の出力を元に12個選定\n",
    "    valid_pred = ml_valid[['customer_id', 'article_id']].copy()\n",
    "    valid_pred['prob'] = vl_pred\n",
    "    valid_pred = valid_pred.sort_values(['customer_id', 'prob'], ascending=False)\n",
    "    valid_pred = valid_pred.groupby('customer_id').head(12)\n",
    "    valid_pred = valid_pred.groupby('customer_id')['article_id'].apply(list).reset_index()\n",
    "    valid_pred = valid_pred.sort_values('customer_id').reset_index(drop=True)\n",
    "    assert(valid['customer_id'].tolist() == valid_pred['customer_id'].tolist())\n",
    "    # MAP@12\n",
    "    score = np.mean(apk(valid['article_id'].tolist(), valid_pred['article_id'].tolist()))\n",
    "    print(f'{valid_start.strftime(\"%Y-%m-%d\")} - {valid_end.strftime(\"%Y-%m-%d\")} : ' + '{:.5f}'.format(score))\n",
    "    scores.append(score)\n",
    "    \n",
    "    test_pred += model.predict(ml_test[features], num_iteration=model.best_iteration) / n_iter\n",
    "\n",
    "    train_start = train_start - relativedelta(days=7)\n",
    "    valid_start = valid_start - relativedelta(days=7)\n",
    "    valid_end = valid_end - relativedelta(days=7)\n",
    "cv_score = np.mean(scores)\n",
    "print(f'MAP@12 : ' + '{:.5f}'.format(cv_score))"
   ]
  },
  {
   "cell_type": "code",
   "execution_count": 15,
   "metadata": {},
   "outputs": [
    {
     "data": {
      "text/plain": [
       "[0.027266477032196906, 0.024578183085381143, 0.026479483799684095]"
      ]
     },
     "execution_count": 15,
     "metadata": {},
     "output_type": "execute_result"
    }
   ],
   "source": [
    "scores"
   ]
  },
  {
   "cell_type": "code",
   "execution_count": 16,
   "metadata": {},
   "outputs": [
    {
     "data": {
      "image/png": "[encoded data removed]",
      "text/plain": [
       "<Figure size 720x504 with 1 Axes>"
      ]
     },
     "metadata": {
      "needs_background": "light"
     },
     "output_type": "display_data"
    }
   ],
   "source": [
    "fi_n = fi['feature'].nunique()\n",
    "order = list(fi.groupby(\"feature\").mean().sort_values(\"importance\", ascending=False).index)\n",
    "plt.figure(figsize=(10, fi_n*0.2))\n",
    "sns.barplot(x=\"importance\", y=\"feature\", data=fi, order=order)\n",
    "plt.title(f\"LGBM importance\")\n",
    "plt.tight_layout()\n",
    "plt.savefig(OUTPUT_DIR + f'{exp_name}/lgbm_importance.png')"
   ]
  },
  {
   "cell_type": "markdown",
   "metadata": {},
   "source": [
    "# sub"
   ]
  },
  {
   "cell_type": "code",
   "execution_count": 17,
   "metadata": {},
   "outputs": [],
   "source": [
    "# 2値分類の出力を元に12個選定\n",
    "test = ml_test[['customer_id', 'article_id']].copy()\n",
    "test['prob'] = test_pred\n",
    "test = test.sort_values(['customer_id', 'prob'], ascending=False)\n",
    "test = test.groupby('customer_id').head(12)\n",
    "test = test.groupby('customer_id')['article_id'].apply(list).reset_index()"
   ]
  },
  {
   "cell_type": "code",
   "execution_count": 18,
   "metadata": {},
   "outputs": [
    {
     "data": {
      "text/html": [
       "<div>\n",
       "<style scoped>\n",
       "    .dataframe tbody tr th:only-of-type {\n",
       "        vertical-align: middle;\n",
       "    }\n",
       "\n",
       "    .dataframe tbody tr th {\n",
       "        vertical-align: top;\n",
       "    }\n",
       "\n",
       "    .dataframe thead th {\n",
       "        text-align: right;\n",
       "    }\n",
       "</style>\n",
       "<table border=\"1\" class=\"dataframe\">\n",
       "  <thead>\n",
       "    <tr style=\"text-align: right;\">\n",
       "      <th></th>\n",
       "      <th>customer_id</th>\n",
       "      <th>prediction</th>\n",
       "    </tr>\n",
       "  </thead>\n",
       "  <tbody>\n",
       "    <tr>\n",
       "      <th>0</th>\n",
       "      <td>00000dbacae5abe5e23885899a1fa44253a17956c6d1c3...</td>\n",
       "      <td>0751471001 0924243001 0568601043 0751471043 08...</td>\n",
       "    </tr>\n",
       "    <tr>\n",
       "      <th>1</th>\n",
       "      <td>0000423b00ade91418cceaf3b26c6af3dd342b51fd051e...</td>\n",
       "      <td>0751471001 0915526001 0924243001 0898694001 09...</td>\n",
       "    </tr>\n",
       "    <tr>\n",
       "      <th>2</th>\n",
       "      <td>000058a12d5b43e67d225668fa1f8d618c13dc232df0ca...</td>\n",
       "      <td>0794321007 0751471001 0915526001 0924243001 08...</td>\n",
       "    </tr>\n",
       "    <tr>\n",
       "      <th>3</th>\n",
       "      <td>00005ca1c9ed5f5146b52ac8639a40ca9d57aeff4d1bd2...</td>\n",
       "      <td>0866731001 0751471001 0923758001 0924243001 07...</td>\n",
       "    </tr>\n",
       "    <tr>\n",
       "      <th>4</th>\n",
       "      <td>00006413d8573cd20ed7128e53b7b13819fe5cfc2d801f...</td>\n",
       "      <td>0751471001 0923758001 0924243001 0751471043 09...</td>\n",
       "    </tr>\n",
       "  </tbody>\n",
       "</table>\n",
       "</div>"
      ],
      "text/plain": [
       "                                         customer_id  \\\n",
       "0  00000dbacae5abe5e23885899a1fa44253a17956c6d1c3...   \n",
       "1  0000423b00ade91418cceaf3b26c6af3dd342b51fd051e...   \n",
       "2  000058a12d5b43e67d225668fa1f8d618c13dc232df0ca...   \n",
       "3  00005ca1c9ed5f5146b52ac8639a40ca9d57aeff4d1bd2...   \n",
       "4  00006413d8573cd20ed7128e53b7b13819fe5cfc2d801f...   \n",
       "\n",
       "                                          prediction  \n",
       "0  0751471001 0924243001 0568601043 0751471043 08...  \n",
       "1  0751471001 0915526001 0924243001 0898694001 09...  \n",
       "2  0794321007 0751471001 0915526001 0924243001 08...  \n",
       "3  0866731001 0751471001 0923758001 0924243001 07...  \n",
       "4  0751471001 0923758001 0924243001 0751471043 09...  "
      ]
     },
     "execution_count": 18,
     "metadata": {},
     "output_type": "execute_result"
    }
   ],
   "source": [
    "sub = sample['customer_id'].to_frame()\n",
    "sub = sub.merge(test, on=['customer_id'], how='left')\n",
    "sub = sub.rename(columns={'article_id':'prediction'})\n",
    "assert(sub['prediction'].apply(len).min()==12)\n",
    "sub['prediction'] = sub['prediction'].apply(lambda x: ' '.join(x))\n",
    "sub.to_csv(OUTPUT_DIR + f'{exp_name}/{exp_name}_sub.csv', index=False)\n",
    "sub.head()"
   ]
  },
  {
   "cell_type": "code",
   "execution_count": 19,
   "metadata": {},
   "outputs": [],
   "source": [
    "message = f'{exp_name} is finished!\\nvalid_score : {cv_score}'\n",
    "line_notify.send(message)"
   ]
  }
 ],
 "metadata": {
  "interpreter": {
   "hash": "d4d1e4263499bec80672ea0156c357c1ee493ec2b1c70f0acce89fc37c4a6abe"
  },
  "kernelspec": {
   "display_name": "Python 3.8.12 ('base')",
   "language": "python",
   "name": "python3"
  },
  "language_info": {
   "codemirror_mode": {
    "name": "ipython",
    "version": 3
   },
   "file_extension": ".py",
   "mimetype": "text/x-python",
   "name": "python",
   "nbconvert_exporter": "python",
   "pygments_lexer": "ipython3",
   "version": "3.8.12"
  },
  "orig_nbformat": 4
 },
 "nbformat": 4,
 "nbformat_minor": 2
}
