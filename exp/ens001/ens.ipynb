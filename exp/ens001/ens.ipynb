{
 "cells": [
  {
   "cell_type": "markdown",
   "metadata": {},
   "source": [
    "# ens001"
   ]
  },
  {
   "cell_type": "code",
   "execution_count": 1,
   "metadata": {},
   "outputs": [],
   "source": [
    "import os\n",
    "import sys\n",
    "import gc\n",
    "import itertools\n",
    "import pickle\n",
    "import pathlib\n",
    "import datetime\n",
    "from dateutil.relativedelta import relativedelta\n",
    "from dotenv import load_dotenv\n",
    "load_dotenv()\n",
    "sys.path.append(os.getenv('UTILS_PATH'))\n",
    "\n",
    "import pandas as pd\n",
    "import numpy as np\n",
    "from sklearn.preprocessing import LabelEncoder\n",
    "import lightgbm as lgb\n",
    "import matplotlib.pyplot as plt\n",
    "import seaborn as sns\n",
    "\n",
    "from scipy.optimize import minimize\n",
    "\n",
    "import line_notify"
   ]
  },
  {
   "cell_type": "code",
   "execution_count": 2,
   "metadata": {},
   "outputs": [],
   "source": [
    "import builtins\n",
    "import types\n",
    "\n",
    "def imports():\n",
    "    for name, val in globals().items():\n",
    "        # module imports\n",
    "        if isinstance(val, types.ModuleType):\n",
    "            yield name, val\n",
    "\n",
    "            # functions / callables\n",
    "        if hasattr(val, '__call__'):\n",
    "            yield name, val\n",
    "\n",
    "\n",
    "def noglobal(f):\n",
    "    '''\n",
    "    ref: https://gist.github.com/raven38/4e4c3c7a179283c441f575d6e375510c\n",
    "    '''\n",
    "    return types.FunctionType(f.__code__,\n",
    "                              dict(imports()),\n",
    "                              f.__name__,\n",
    "                              f.__defaults__,\n",
    "                              f.__closure__\n",
    "                              )"
   ]
  },
  {
   "cell_type": "markdown",
   "metadata": {},
   "source": [
    "ディレクトリ設定"
   ]
  },
  {
   "cell_type": "code",
   "execution_count": 3,
   "metadata": {},
   "outputs": [],
   "source": [
    "INPUT_DIR = os.getenv('INPUT_DIR')\n",
    "OUTPUT_DIR = os.getenv('OUTPUT_DIR')\n",
    "#exp_name = os.path.dirname(__file__).split('/')[-1]\n",
    "exp_name = 'ens001'\n",
    "os.makedirs(OUTPUT_DIR + exp_name, exist_ok=True)"
   ]
  },
  {
   "cell_type": "code",
   "execution_count": 4,
   "metadata": {},
   "outputs": [],
   "source": [
    "SEED = 48\n",
    "exps = ['exp035', 'exp038', 'exp043', 'exp044', 'exp045']"
   ]
  },
  {
   "cell_type": "markdown",
   "metadata": {},
   "source": [
    "データセット準備"
   ]
  },
  {
   "cell_type": "code",
   "execution_count": 5,
   "metadata": {},
   "outputs": [],
   "source": [
    "articles = pd.read_csv(INPUT_DIR + 'articles.csv', dtype='object')\n",
    "customers = pd.read_csv(INPUT_DIR + 'customers.csv')\n",
    "transactions = pd.read_csv(INPUT_DIR + 'transactions_train.csv', dtype={'article_id':'str'}, parse_dates=['t_dat'])\n",
    "sample = pd.read_csv(INPUT_DIR + 'sample_submission.csv')\n",
    "\n",
    "ALL_CUSTOMER = customers['customer_id'].unique().tolist()\n",
    "ALL_ARTICLE = articles['article_id'].unique().tolist()\n",
    "\n",
    "customer_ids = dict(list(enumerate(ALL_CUSTOMER)))\n",
    "article_ids = dict(list(enumerate(ALL_ARTICLE)))\n",
    "\n",
    "customer_map = {u: uidx for uidx, u in customer_ids.items()}\n",
    "article_map = {i: iidx for iidx, i in article_ids.items()}\n",
    "\n",
    "articles['article_id'] = articles['article_id'].map(article_map)\n",
    "customers['customer_id'] = customers['customer_id'].map(customer_map)\n",
    "transactions['article_id'] = transactions['article_id'].map(article_map)\n",
    "transactions['customer_id'] = transactions['customer_id'].map(customer_map)\n",
    "sample['customer_id'] = sample['customer_id'].map(customer_map)"
   ]
  },
  {
   "cell_type": "code",
   "execution_count": 6,
   "metadata": {},
   "outputs": [],
   "source": [
    "# 正解データ\n",
    "valid_start = '2020-09-16'\n",
    "valid_end = '2020-09-22'\n",
    "valid = transactions[(transactions['t_dat'] >= valid_start) & (transactions['t_dat'] <= valid_end)].copy()\n",
    "valid = valid[['customer_id', 'article_id']].drop_duplicates()\n",
    "valid = valid.groupby('customer_id')['article_id'].apply(list).reset_index()\n",
    "valid = valid.sort_values('customer_id').reset_index(drop=True)"
   ]
  },
  {
   "cell_type": "code",
   "execution_count": 7,
   "metadata": {},
   "outputs": [],
   "source": [
    "# OOFデータ\n",
    "oof = pd.DataFrame()\n",
    "for exp in exps:\n",
    "    exp_oof = pd.read_csv(OUTPUT_DIR + f'{exp}/{exp}_oof.csv', usecols=['customer_id', 'article_id', 'pred'])\n",
    "    exp_oof = exp_oof.sort_values(['customer_id', 'pred'], ascending=False)\n",
    "    exp_oof = exp_oof.groupby('customer_id').head(12)\n",
    "    exp_oof = exp_oof.sort_values(['customer_id', 'pred'])\n",
    "    exp_oof['exp'] = exp\n",
    "    exp_oof['rank'] = exp_oof.groupby('customer_id').cumcount() + 1\n",
    "    oof = pd.concat([oof, exp_oof[['customer_id', 'article_id', 'exp', 'rank']]])"
   ]
  },
  {
   "cell_type": "code",
   "execution_count": 8,
   "metadata": {},
   "outputs": [],
   "source": [
    "# TESTデータ\n",
    "def func(s, idx):\n",
    "    s = s.split()\n",
    "    return s[idx]\n",
    "\n",
    "test = pd.DataFrame()\n",
    "for exp in exps:\n",
    "    exp_test = pd.read_csv(OUTPUT_DIR + f'{exp}/{exp}_sub.csv')\n",
    "    prediction = exp_test['prediction']\n",
    "\n",
    "    for i in range(12):\n",
    "        exp_test_tmp = exp_test[['customer_id']]\n",
    "        exp_test_tmp['exp'] = exp\n",
    "        exp_test_tmp['article_id'] = prediction.apply(func, idx=i)\n",
    "        exp_test_tmp['rank'] = 12 - i\n",
    "        test = pd.concat([test, exp_test_tmp])"
   ]
  },
  {
   "cell_type": "code",
   "execution_count": 9,
   "metadata": {},
   "outputs": [],
   "source": [
    "def apk(y_true, y_pred, K=12):\n",
    "    assert(len(y_true) == len(y_pred))\n",
    "    apks = []\n",
    "    for idx in range(len(y_true)):\n",
    "        y_i_true = y_true[idx]\n",
    "        y_i_pred = y_pred[idx]\n",
    "\n",
    "        # 予測値の数と重複の確認\n",
    "        assert(len(y_i_pred) <= K)\n",
    "        assert(len(np.unique(y_i_pred)) == len(y_i_pred))\n",
    "\n",
    "        sum_precision = 0.0\n",
    "        num_hits = 0.0\n",
    "\n",
    "        for i, p in enumerate(y_i_pred):\n",
    "            if p in y_i_true:\n",
    "                num_hits += 1\n",
    "                precision = num_hits / (i+1)\n",
    "                sum_precision += precision\n",
    "        apk = sum_precision / min(len(y_i_true), K)\n",
    "        apks.append(apk)\n",
    "    return apks"
   ]
  },
  {
   "cell_type": "code",
   "execution_count": 10,
   "metadata": {},
   "outputs": [],
   "source": [
    "def f(x):\n",
    "    oof_ = oof.copy()\n",
    "    ws = x + [1 - sum(x)]\n",
    "    oof_['w'] = 0\n",
    "    for exp, w in zip(exps, ws):\n",
    "        oof_.loc[oof_['exp']==exp, 'w'] = w\n",
    "    oof_['rank'] = oof_['rank'] * oof_['w']\n",
    "    oof_agg = oof_.groupby(['customer_id', 'article_id'])['rank'].sum().reset_index()\n",
    "    oof_agg = oof_agg.sort_values(['customer_id', 'rank'], ascending=False)\n",
    "    oof_agg = oof_agg.groupby('customer_id').head(12)\n",
    "    oof_agg = oof_agg.groupby('customer_id')['article_id'].apply(list).reset_index()\n",
    "    oof_agg = oof_agg.sort_values('customer_id').reset_index(drop=True)\n",
    "    score = np.mean(apk(valid['article_id'].tolist(), oof_agg['article_id'].tolist()))\n",
    "    print(-score)\n",
    "    return -score"
   ]
  },
  {
   "cell_type": "code",
   "execution_count": 11,
   "metadata": {},
   "outputs": [
    {
     "name": "stdout",
     "output_type": "stream",
     "text": [
      "-0.03275620872970546\n",
      "-0.032749882532147306\n",
      "-0.0327768476119052\n",
      "-0.03283934499477748\n",
      "-0.03281684554931684\n",
      "-0.03282405545180976\n",
      "-0.03282408318672374\n",
      "-0.03281673811842985\n",
      "-0.03281459093804206\n",
      "-0.032809340058103674\n",
      "-0.032808337260732984\n",
      "-0.03280465038480665\n",
      "-0.032786500154900956\n",
      "-0.03283453907975187\n",
      "-0.03284129259792004\n",
      "-0.032825576824232074\n",
      "-0.032837315294629375\n",
      "-0.032834645427842465\n",
      "-0.032836930195815656\n",
      "-0.03282558487181878\n",
      "-0.03283742014567792\n",
      "-0.03284209640988969\n",
      "-0.0328084630923106\n",
      "-0.03284128000940264\n",
      "-0.032808488017888986\n",
      "-0.0328374506758728\n",
      "-0.03283834293368419\n",
      "-0.0328384425814014\n",
      "-0.03283877560207764\n",
      "-0.03283718625890185\n",
      "-0.032838721765839234\n",
      "-0.032839885123148324\n",
      "-0.03284070003530913\n",
      "-0.032840648278411065\n",
      "-0.0328346144390306\n",
      "-0.03283862220403488\n",
      "-0.03283760396227034\n",
      "-0.032841826741443\n",
      "-0.03284018729986096\n",
      "-0.032840393602796884\n",
      "-0.032839154599832845\n",
      "-0.03283933881693693\n",
      "-0.032836402489531985\n",
      "-0.03284086033377359\n",
      "-0.032840677249723234\n",
      "-0.03283755663839309\n",
      "-0.03284086033377359\n",
      "-0.032841826741443\n",
      "-0.03284176085167115\n",
      "-0.03284204751426356\n",
      "-0.03284188043075797\n",
      "-0.03284204751426356\n",
      "-0.03283437565854154\n",
      "-0.0328416607403565\n",
      "-0.03284204751426356\n",
      "-0.03284209640988969\n",
      "-0.032841675349693907\n",
      "-0.0328416607403565\n",
      "-0.03284221953921152\n",
      "-0.03283873300963354\n",
      "-0.03283860358003496\n",
      "-0.03284164484440131\n",
      "-0.03284213900523907\n",
      "-0.03284213900523907\n",
      "-0.03284213900523907\n",
      "-0.032841483776456404\n",
      "-0.03284213900523907\n",
      "-0.03284221953921152\n",
      "-0.03284213900523907\n",
      "-0.03284213900523907\n",
      "-0.03284221953921152\n",
      "-0.03284213900523907\n",
      "-0.03284213900523907\n",
      "-0.03284213900523907\n"
     ]
    }
   ],
   "source": [
    "init_state = [round(1 / len(exps), 3) for _ in range(len(exps) - 1)]\n",
    "result = minimize(f, init_state, method='Nelder-Mead')"
   ]
  },
  {
   "cell_type": "code",
   "execution_count": 12,
   "metadata": {},
   "outputs": [
    {
     "name": "stdout",
     "output_type": "stream",
     "text": [
      "optimized CV:  0.03284221953921152\n",
      "w:  [0.19667888 0.19909511 0.20999136 0.2055299 ]\n"
     ]
    }
   ],
   "source": [
    "print('optimized CV: ', -result['fun'])\n",
    "print('w: ', result['x'])"
   ]
  },
  {
   "cell_type": "markdown",
   "metadata": {},
   "source": [
    "# sub作成"
   ]
  },
  {
   "cell_type": "code",
   "execution_count": 13,
   "metadata": {},
   "outputs": [],
   "source": [
    "ws = list(result['x']) + [1 - sum(result['x'])]\n",
    "test['w'] = 0\n",
    "for exp, w in zip(exps, ws):\n",
    "    test.loc[test['exp']==exp, 'w'] = w\n",
    "    test['rank'] = test['rank'] * test['w']\n",
    "\n",
    "test = test.groupby(['customer_id', 'article_id'])['rank'].sum().reset_index()\n",
    "test = test.sort_values(['customer_id', 'rank'], ascending=False)\n",
    "test = test.groupby('customer_id').head(12)\n",
    "test = test.groupby('customer_id')['article_id'].apply(list).reset_index()\n",
    "\n",
    "sub = sample['customer_id'].map(customer_ids).to_frame()\n",
    "sub = sub.merge(test, on=['customer_id'], how='left')\n",
    "sub = sub.rename(columns={'article_id':'prediction'})\n",
    "assert(sub['prediction'].apply(len).min()==12)\n",
    "sub['prediction'] = sub['prediction'].apply(lambda x: ' '.join(x))\n",
    "sub.to_csv(OUTPUT_DIR + f'{exp_name}/{exp_name}_sub.csv', index=False)"
   ]
  },
  {
   "cell_type": "code",
   "execution_count": 14,
   "metadata": {},
   "outputs": [
    {
     "data": {
      "text/html": [
       "<div>\n",
       "<style scoped>\n",
       "    .dataframe tbody tr th:only-of-type {\n",
       "        vertical-align: middle;\n",
       "    }\n",
       "\n",
       "    .dataframe tbody tr th {\n",
       "        vertical-align: top;\n",
       "    }\n",
       "\n",
       "    .dataframe thead th {\n",
       "        text-align: right;\n",
       "    }\n",
       "</style>\n",
       "<table border=\"1\" class=\"dataframe\">\n",
       "  <thead>\n",
       "    <tr style=\"text-align: right;\">\n",
       "      <th></th>\n",
       "      <th>customer_id</th>\n",
       "      <th>prediction</th>\n",
       "    </tr>\n",
       "  </thead>\n",
       "  <tbody>\n",
       "    <tr>\n",
       "      <th>0</th>\n",
       "      <td>00000dbacae5abe5e23885899a1fa44253a17956c6d1c3...</td>\n",
       "      <td>0568601006 0568601043 0915529003 0924243002 06...</td>\n",
       "    </tr>\n",
       "    <tr>\n",
       "      <th>1</th>\n",
       "      <td>0000423b00ade91418cceaf3b26c6af3dd342b51fd051e...</td>\n",
       "      <td>0714790020 0448509014 0915529003 0706016001 09...</td>\n",
       "    </tr>\n",
       "    <tr>\n",
       "      <th>2</th>\n",
       "      <td>000058a12d5b43e67d225668fa1f8d618c13dc232df0ca...</td>\n",
       "      <td>0794321007 0901666001 0924243001 0794321008 07...</td>\n",
       "    </tr>\n",
       "    <tr>\n",
       "      <th>3</th>\n",
       "      <td>00005ca1c9ed5f5146b52ac8639a40ca9d57aeff4d1bd2...</td>\n",
       "      <td>0751471043 0918522001 0918292001 0791587001 07...</td>\n",
       "    </tr>\n",
       "    <tr>\n",
       "      <th>4</th>\n",
       "      <td>00006413d8573cd20ed7128e53b7b13819fe5cfc2d801f...</td>\n",
       "      <td>0896152002 0730683050 0924243002 0791587015 06...</td>\n",
       "    </tr>\n",
       "    <tr>\n",
       "      <th>...</th>\n",
       "      <td>...</td>\n",
       "      <td>...</td>\n",
       "    </tr>\n",
       "    <tr>\n",
       "      <th>1371975</th>\n",
       "      <td>ffffbbf78b6eaac697a8a5dfbfd2bfa8113ee5b403e474...</td>\n",
       "      <td>0557599022 0866731001 0720125039 0918292001 08...</td>\n",
       "    </tr>\n",
       "    <tr>\n",
       "      <th>1371976</th>\n",
       "      <td>ffffcd5046a6143d29a04fb8c424ce494a76e5cdf4fab5...</td>\n",
       "      <td>0762846008 0706016001 0448509014 0706016003 07...</td>\n",
       "    </tr>\n",
       "    <tr>\n",
       "      <th>1371977</th>\n",
       "      <td>ffffcf35913a0bee60e8741cb2b4e78b8a98ee5ff2e6a1...</td>\n",
       "      <td>0762846027 0706016002 0866731001 0918292001 07...</td>\n",
       "    </tr>\n",
       "    <tr>\n",
       "      <th>1371978</th>\n",
       "      <td>ffffd7744cebcf3aca44ae7049d2a94b87074c3d4ffe38...</td>\n",
       "      <td>0714790020 0448509014 0706016002 0706016001 07...</td>\n",
       "    </tr>\n",
       "    <tr>\n",
       "      <th>1371979</th>\n",
       "      <td>ffffd9ac14e89946416d80e791d064701994755c3ab686...</td>\n",
       "      <td>0806050001 0751471043 0918522001 0924243002 08...</td>\n",
       "    </tr>\n",
       "  </tbody>\n",
       "</table>\n",
       "<p>1371980 rows × 2 columns</p>\n",
       "</div>"
      ],
      "text/plain": [
       "                                               customer_id  \\\n",
       "0        00000dbacae5abe5e23885899a1fa44253a17956c6d1c3...   \n",
       "1        0000423b00ade91418cceaf3b26c6af3dd342b51fd051e...   \n",
       "2        000058a12d5b43e67d225668fa1f8d618c13dc232df0ca...   \n",
       "3        00005ca1c9ed5f5146b52ac8639a40ca9d57aeff4d1bd2...   \n",
       "4        00006413d8573cd20ed7128e53b7b13819fe5cfc2d801f...   \n",
       "...                                                    ...   \n",
       "1371975  ffffbbf78b6eaac697a8a5dfbfd2bfa8113ee5b403e474...   \n",
       "1371976  ffffcd5046a6143d29a04fb8c424ce494a76e5cdf4fab5...   \n",
       "1371977  ffffcf35913a0bee60e8741cb2b4e78b8a98ee5ff2e6a1...   \n",
       "1371978  ffffd7744cebcf3aca44ae7049d2a94b87074c3d4ffe38...   \n",
       "1371979  ffffd9ac14e89946416d80e791d064701994755c3ab686...   \n",
       "\n",
       "                                                prediction  \n",
       "0        0568601006 0568601043 0915529003 0924243002 06...  \n",
       "1        0714790020 0448509014 0915529003 0706016001 09...  \n",
       "2        0794321007 0901666001 0924243001 0794321008 07...  \n",
       "3        0751471043 0918522001 0918292001 0791587001 07...  \n",
       "4        0896152002 0730683050 0924243002 0791587015 06...  \n",
       "...                                                    ...  \n",
       "1371975  0557599022 0866731001 0720125039 0918292001 08...  \n",
       "1371976  0762846008 0706016001 0448509014 0706016003 07...  \n",
       "1371977  0762846027 0706016002 0866731001 0918292001 07...  \n",
       "1371978  0714790020 0448509014 0706016002 0706016001 07...  \n",
       "1371979  0806050001 0751471043 0918522001 0924243002 08...  \n",
       "\n",
       "[1371980 rows x 2 columns]"
      ]
     },
     "execution_count": 14,
     "metadata": {},
     "output_type": "execute_result"
    }
   ],
   "source": [
    "sub"
   ]
  }
 ],
 "metadata": {
  "interpreter": {
   "hash": "d4d1e4263499bec80672ea0156c357c1ee493ec2b1c70f0acce89fc37c4a6abe"
  },
  "kernelspec": {
   "display_name": "Python 3.8.12 ('base')",
   "language": "python",
   "name": "python3"
  },
  "language_info": {
   "codemirror_mode": {
    "name": "ipython",
    "version": 3
   },
   "file_extension": ".py",
   "mimetype": "text/x-python",
   "name": "python",
   "nbconvert_exporter": "python",
   "pygments_lexer": "ipython3",
   "version": "3.8.12"
  },
  "orig_nbformat": 4
 },
 "nbformat": 4,
 "nbformat_minor": 2
}
