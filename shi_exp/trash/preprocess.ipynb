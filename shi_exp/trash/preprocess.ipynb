{
 "cells": [
  {
   "cell_type": "code",
   "execution_count": 1,
   "id": "7a2aedd1-75b7-4914-901a-48887958df48",
   "metadata": {},
   "outputs": [],
   "source": [
    "import os\n",
    "import datetime\n",
    "from dateutil.relativedelta import relativedelta\n",
    "from unittest import result\n",
    "import numpy as np\n",
    "import pandas as pd\n",
    "from sklearn.preprocessing import LabelEncoder\n",
    "from functools import reduce\n",
    "from cuml.experimental.preprocessing import MinMaxScaler\n",
    "from cuml.preprocessing import Normalizer\n",
    "import pandas as pd\n",
    "import pickle\n",
    "\n",
    "import cudf\n",
    "import cuml\n",
    "\n",
    "import builtins\n",
    "import types\n",
    "\n",
    "def imports():\n",
    "    for name, val in globals().items():\n",
    "        # module imports\n",
    "        if isinstance(val, types.ModuleType):\n",
    "            yield name, val\n",
    "\n",
    "            # functions / callables\n",
    "        if hasattr(val, '__call__'):\n",
    "            yield name, val\n",
    "\n",
    "\n",
    "def noglobal(f):\n",
    "    '''\n",
    "    ref: https://gist.github.com/raven38/4e4c3c7a179283c441f575d6e375510c\n",
    "    '''\n",
    "    return types.FunctionType(f.__code__,\n",
    "                              dict(imports()),\n",
    "                              f.__name__,\n",
    "                              f.__defaults__,\n",
    "                              f.__closure__\n",
    "                              )"
   ]
  },
  {
   "cell_type": "code",
   "execution_count": 2,
   "id": "01565c38-6865-49c5-b654-d9599464c12f",
   "metadata": {},
   "outputs": [],
   "source": [
    "INPUT_DIR = './h-and-m-personalized-fashion-recommendations/'\n",
    "transactions = pd.read_csv(INPUT_DIR + 'transactions_train.csv')\n",
    "customers = pd.read_csv(INPUT_DIR + 'customers.csv')\n",
    "articles = pd.read_csv(INPUT_DIR + 'articles.csv')\n",
    "sub = pd.read_csv(INPUT_DIR + 'sample_submission.csv')"
   ]
  },
  {
   "cell_type": "code",
   "execution_count": 3,
   "id": "ccb514d0-6694-453a-8305-9ba9a0f1aba4",
   "metadata": {},
   "outputs": [],
   "source": [
    "ALL_CUSTOMER = customers['customer_id'].unique().tolist()\n",
    "ALL_ARTICLE = articles['article_id'].unique().tolist()\n",
    "\n",
    "customer_ids = dict(list(enumerate(ALL_CUSTOMER)))\n",
    "article_ids = dict(list(enumerate(ALL_ARTICLE)))\n",
    "\n",
    "customer_map = {u: uidx for uidx, u in customer_ids.items()}\n",
    "article_map = {i: iidx for iidx, i in article_ids.items()}\n",
    "\n",
    "articles['article_id'] = articles['article_id'].map(article_map).astype('int32')\n",
    "customers['customer_id'] = customers['customer_id'].map(customer_map).astype('int32')\n",
    "transactions['article_id'] = transactions['article_id'].map(article_map).astype('int32')\n",
    "transactions['customer_id'] = transactions['customer_id'].map(customer_map).astype('int32')\n",
    "transactions['price'] = transactions['price'].astype('float32')\n",
    "transactions['sales_channel_id'] = transactions['sales_channel_id'].astype('int8')\n",
    "\n",
    "sub['customer_id'] = sub['customer_id'].map(customer_map)\n",
    "# first_week_sales_pred['article_id'] = first_week_sales_pred['article_id'].map(article_map) "
   ]
  },
  {
   "cell_type": "code",
   "execution_count": 4,
   "id": "c36bb173-56a9-49d6-881e-0c517176d203",
   "metadata": {},
   "outputs": [
    {
     "data": {
      "text/plain": [
       "t_dat                object\n",
       "customer_id           int32\n",
       "article_id            int32\n",
       "price               float32\n",
       "sales_channel_id       int8\n",
       "dtype: object"
      ]
     },
     "execution_count": 4,
     "metadata": {},
     "output_type": "execute_result"
    }
   ],
   "source": [
    "transactions.dtypes"
   ]
  },
  {
   "cell_type": "code",
   "execution_count": 5,
   "id": "89f8835c-3426-4e1d-974c-cf03d8b77e9b",
   "metadata": {},
   "outputs": [
    {
     "data": {
      "text/plain": [
       "1371979"
      ]
     },
     "execution_count": 5,
     "metadata": {},
     "output_type": "execute_result"
    }
   ],
   "source": [
    "transactions['customer_id'].max()"
   ]
  },
  {
   "cell_type": "code",
   "execution_count": 6,
   "id": "61679c5a-4093-4b73-ae38-848a0b3eb242",
   "metadata": {},
   "outputs": [
    {
     "data": {
      "text/plain": [
       "105539"
      ]
     },
     "execution_count": 6,
     "metadata": {},
     "output_type": "execute_result"
    }
   ],
   "source": [
    "transactions['article_id'].max()"
   ]
  },
  {
   "cell_type": "code",
   "execution_count": 7,
   "id": "9b2eae0c-68ba-46ba-abc7-aaf527c395ad",
   "metadata": {},
   "outputs": [
    {
     "data": {
      "text/plain": [
       "1371979"
      ]
     },
     "execution_count": 7,
     "metadata": {},
     "output_type": "execute_result"
    }
   ],
   "source": [
    "transactions['customer_id'].max()"
   ]
  },
  {
   "cell_type": "code",
   "execution_count": 8,
   "id": "f90f8751-4d68-46ec-84e3-f4d80413fb2b",
   "metadata": {},
   "outputs": [
    {
     "data": {
      "text/plain": [
       "105539"
      ]
     },
     "execution_count": 8,
     "metadata": {},
     "output_type": "execute_result"
    }
   ],
   "source": [
    "transactions['article_id'].max()"
   ]
  },
  {
   "cell_type": "code",
   "execution_count": 9,
   "id": "27c37dae-0c15-4939-b3c9-a2779064fadc",
   "metadata": {},
   "outputs": [],
   "source": [
    "import pickle"
   ]
  },
  {
   "cell_type": "code",
   "execution_count": 10,
   "id": "8805ab17-c8cb-4614-8e63-31946338f72e",
   "metadata": {},
   "outputs": [],
   "source": [
    "target_path='dataset/'"
   ]
  },
  {
   "cell_type": "code",
   "execution_count": 11,
   "id": "5ed479f3-2ec4-46ec-bdb9-fbda042526b1",
   "metadata": {},
   "outputs": [],
   "source": [
    "with open(target_path + \"customer_ids.pickle\", 'wb') as handle:\n",
    "    pickle.dump(customer_ids, handle, protocol=pickle.HIGHEST_PROTOCOL)"
   ]
  },
  {
   "cell_type": "code",
   "execution_count": 12,
   "id": "02cac648-6166-4cc4-bd83-d78f4ddff375",
   "metadata": {},
   "outputs": [],
   "source": [
    "with open(target_path + \"article_ids.pickle\", 'wb') as handle:\n",
    "    pickle.dump(customer_ids, handle, protocol=pickle.HIGHEST_PROTOCOL)"
   ]
  },
  {
   "cell_type": "code",
   "execution_count": 13,
   "id": "4454dc95-ecd8-47ed-85b5-c60119da0354",
   "metadata": {},
   "outputs": [],
   "source": [
    "transactions.to_parquet(target_path + \"transactions.parquet\")\n",
    "articles.to_parquet(target_path + \"articles.parquet\")\n",
    "customers.to_parquet(target_path + \"customers.parquet\")\n",
    "sub.to_parquet(target_path + \"submission.parquet\")"
   ]
  },
  {
   "cell_type": "code",
   "execution_count": null,
   "id": "bb83d18f-578e-489c-8f6b-a23589b6d82b",
   "metadata": {},
   "outputs": [],
   "source": []
  }
 ],
 "metadata": {
  "kernelspec": {
   "display_name": "Python 3 (ipykernel)",
   "language": "python",
   "name": "python3"
  },
  "language_info": {
   "codemirror_mode": {
    "name": "ipython",
    "version": 3
   },
   "file_extension": ".py",
   "mimetype": "text/x-python",
   "name": "python",
   "nbconvert_exporter": "python",
   "pygments_lexer": "ipython3",
   "version": "3.8.13"
  }
 },
 "nbformat": 4,
 "nbformat_minor": 5
}
